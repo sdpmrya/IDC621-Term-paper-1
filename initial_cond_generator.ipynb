{
 "cells": [
  {
   "cell_type": "code",
   "execution_count": 4,
   "id": "95801a6f-3855-4942-940f-00b2fa5216a0",
   "metadata": {},
   "outputs": [
    {
     "name": "stdout",
     "output_type": "stream",
     "text": [
      "Initial conditions saved to custom_initial_conditions_(0.2, 0.6, 0.2).txt\n"
     ]
    }
   ],
   "source": [
    "import numpy as np\n",
    "\n",
    "# Function to generate custom initial conditions\n",
    "def generate_custom_initial_conditions(N, susceptible_ratio, infected_ratio, recovering_ratio, tau_max=10):\n",
    "    total_cells = N * N\n",
    "    susceptible_count = int(total_cells * susceptible_ratio)\n",
    "    infected_count = int(total_cells * infected_ratio)\n",
    "    recovering_count = total_cells - susceptible_count - infected_count\n",
    "\n",
    "    # Initialize the grid with all susceptible cells (tau = 0)\n",
    "    initial_conditions = np.zeros(total_cells, dtype=int)\n",
    "\n",
    "    # Randomly assign infected cells (1 <= tau <= 5)\n",
    "    infected_indices = np.random.choice(total_cells, infected_count, replace=False)\n",
    "    initial_conditions[infected_indices] = np.random.randint(1, 6, size=infected_count)\n",
    "\n",
    "    # Randomly assign recovering cells (tau > 5)\n",
    "    remaining_indices = np.setdiff1d(np.arange(total_cells), infected_indices)\n",
    "    recovering_indices = np.random.choice(remaining_indices, recovering_count, replace=False)\n",
    "    initial_conditions[recovering_indices] = np.random.randint(6, tau_max + 1, size=recovering_count)\n",
    "\n",
    "    # Reshape into the grid and return\n",
    "    return initial_conditions.reshape(N, N)\n",
    "\n",
    "# Define the grid size\n",
    "N = 100\n",
    "\n",
    "#different ratios\n",
    "s_ratio = 0.2\n",
    "i_ratio = 0.6\n",
    "r_ratio = 0.2\n",
    "\n",
    "conditions = generate_custom_initial_conditions(N, s_ratio, i_ratio, r_ratio)\n",
    "file_path = f\"custom_initial_conditions_{s_ratio, i_ratio, r_ratio}.txt\"\n",
    "np.savetxt(file_path, conditions.flatten(), fmt='%d')\n",
    "print(f\"Initial conditions saved to {file_path}\")\n"
   ]
  }
 ],
 "metadata": {
  "kernelspec": {
   "display_name": "Python 3 (ipykernel)",
   "language": "python",
   "name": "python3"
  },
  "language_info": {
   "codemirror_mode": {
    "name": "ipython",
    "version": 3
   },
   "file_extension": ".py",
   "mimetype": "text/x-python",
   "name": "python",
   "nbconvert_exporter": "python",
   "pygments_lexer": "ipython3",
   "version": "3.12.2"
  }
 },
 "nbformat": 4,
 "nbformat_minor": 5
}
