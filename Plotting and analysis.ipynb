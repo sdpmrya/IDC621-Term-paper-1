{
 "cells": [
  {
   "cell_type": "code",
   "execution_count": 253,
   "id": "71d647cc-5cd2-4063-8364-9e5ab6fb6663",
   "metadata": {
    "jp-MarkdownHeadingCollapsed": true
   },
   "outputs": [],
   "source": [
    "import pandas as pd\n",
    "import matplotlib.pyplot as plt\n",
    "import seaborn as sns\n",
    "import numpy as np\n",
    "import math as mth\n",
    "\n",
    "import matplotlib.animation as animation\n",
    "from matplotlib.colors import ListedColormap, BoundaryNorm\n",
    "from IPython.display import HTML"
   ]
  },
  {
   "cell_type": "code",
   "execution_count": 254,
   "id": "f5e79c59-7d3d-4bb7-88b9-83ce3c56fe91",
   "metadata": {},
   "outputs": [],
   "source": [
    "data = pd.read_csv(\"SIRS_data.txt\", sep=\" \",header = None)"
   ]
  },
  {
   "cell_type": "code",
   "execution_count": 255,
   "id": "0490f996-c166-419b-afce-0e15b5e31448",
   "metadata": {},
   "outputs": [],
   "source": [
    "dt = np.array(data)"
   ]
  },
  {
   "cell_type": "code",
   "execution_count": 256,
   "id": "c5022ba9-68c9-425b-884f-c057725c660a",
   "metadata": {},
   "outputs": [
    {
     "data": {
      "text/plain": [
       "201"
      ]
     },
     "execution_count": 256,
     "metadata": {},
     "output_type": "execute_result"
    }
   ],
   "source": [
    "len(dt)"
   ]
  },
  {
   "cell_type": "code",
   "execution_count": 257,
   "id": "aa448c72-1548-43db-b887-716fd11ff72f",
   "metadata": {},
   "outputs": [],
   "source": [
    "#dt[0]"
   ]
  },
  {
   "cell_type": "code",
   "execution_count": 258,
   "id": "debfb30a-63a2-414f-a396-0b4c68b13f26",
   "metadata": {},
   "outputs": [
    {
     "data": {
      "text/plain": [
       "array([0., 0., 0., 0., 0., 0., 0., 0., 0., 0., 0., 0., 0., 0., 0., 0., 0.,\n",
       "       0., 0.])"
      ]
     },
     "execution_count": 258,
     "metadata": {},
     "output_type": "execute_result"
    }
   ],
   "source": [
    "np.zeros(19)"
   ]
  },
  {
   "cell_type": "code",
   "execution_count": 259,
   "id": "cb85e9f9-ca55-4277-9baf-015f88f37ff6",
   "metadata": {},
   "outputs": [
    {
     "data": {
      "text/plain": [
       "3601"
      ]
     },
     "execution_count": 259,
     "metadata": {},
     "output_type": "execute_result"
    }
   ],
   "source": [
    "len(dt[0])"
   ]
  },
  {
   "cell_type": "code",
   "execution_count": 260,
   "id": "50139e2b-88b2-44ce-a7c8-cc7215af4a5a",
   "metadata": {},
   "outputs": [
    {
     "data": {
      "text/plain": [
       "[0, 1, 2, 3, 4]"
      ]
     },
     "execution_count": 260,
     "metadata": {},
     "output_type": "execute_result"
    }
   ],
   "source": [
    "list(range(0, 5))"
   ]
  },
  {
   "cell_type": "code",
   "execution_count": 261,
   "id": "9ef1ddb2-3a2b-4357-b2bf-bb93c047610f",
   "metadata": {},
   "outputs": [],
   "source": [
    "def one_frame(a):\n",
    "    N = int(mth.sqrt(len(a)-1))\n",
    "    b = np.zeros((N, N),float)\n",
    "    for i in range(0,N):\n",
    "        for j in range(0,N):\n",
    "            b[i][j] = a[N*i + j]\n",
    "    return (b)"
   ]
  },
  {
   "cell_type": "code",
   "execution_count": 262,
   "id": "21e25e4f-cac4-424f-b5c6-3a5b3dec1862",
   "metadata": {},
   "outputs": [],
   "source": [
    "#one_frame(dt[0])"
   ]
  },
  {
   "cell_type": "code",
   "execution_count": 263,
   "id": "9ec1407e-dd80-48d9-a7ac-1f4464a5b24d",
   "metadata": {},
   "outputs": [
    {
     "data": {
      "image/png": "[encoded data removed]",
      "text/plain": [
       "<Figure size 640x480 with 1 Axes>"
      ]
     },
     "metadata": {},
     "output_type": "display_data"
    }
   ],
   "source": [
    "ax = plt.pcolormesh(one_frame(dt[2]), cmap='Set1',edgecolors='white')\n",
    "plt.show()"
   ]
  },
  {
   "cell_type": "code",
   "execution_count": 264,
   "id": "cf61cd0e-fbfe-47a2-90e1-705831f8329c",
   "metadata": {},
   "outputs": [
    {
     "name": "stdout",
     "output_type": "stream",
     "text": [
      "(60, 60)\n"
     ]
    }
   ],
   "source": [
    "print(one_frame(dt[0]).shape)"
   ]
  },
  {
   "cell_type": "code",
   "execution_count": 266,
   "id": "280d2d9d-d93a-4fbf-883e-db7bd95ba41b",
   "metadata": {},
   "outputs": [
    {
     "name": "stderr",
     "output_type": "stream",
     "text": [
      "MovieWriter Pillow unavailable; using Pillow instead.\n",
      "Exception ignored in: <function WeakMethod.__new__.<locals>._cb at 0x7fde9aa0b420>\n",
      "Traceback (most recent call last):\n",
      "  File \"/home/sudeep/miniconda3/lib/python3.12/weakref.py\", line 60, in _cb\n",
      "    callback(self)\n",
      "  File \"/home/sudeep/miniconda3/lib/python3.12/site-packages/matplotlib/cbook.py\", line 248, in _remove_proxy\n",
      "    del self.callbacks[signal][cid]\n",
      "        ~~~~~~~~~~~~~~^^^^^^^^\n",
      "KeyError: 'changed'\n",
      "Exception ignored in: <function WeakMethod.__new__.<locals>._cb at 0x7fde9a93fe20>\n",
      "Traceback (most recent call last):\n",
      "  File \"/home/sudeep/miniconda3/lib/python3.12/weakref.py\", line 60, in _cb\n",
      "    callback(self)\n",
      "  File \"/home/sudeep/miniconda3/lib/python3.12/site-packages/matplotlib/cbook.py\", line 248, in _remove_proxy\n",
      "    del self.callbacks[signal][cid]\n",
      "        ~~~~~~~~~~~~~~^^^^^^^^\n",
      "KeyError: 'changed'\n",
      "Exception ignored in: <function WeakMethod.__new__.<locals>._cb at 0x7fde9a93f4c0>\n",
      "Traceback (most recent call last):\n",
      "  File \"/home/sudeep/miniconda3/lib/python3.12/weakref.py\", line 60, in _cb\n",
      "    callback(self)\n",
      "  File \"/home/sudeep/miniconda3/lib/python3.12/site-packages/matplotlib/cbook.py\", line 248, in _remove_proxy\n",
      "    del self.callbacks[signal][cid]\n",
      "        ~~~~~~~~~~~~~~^^^^^^^^\n",
      "KeyError: 'changed'\n",
      "Exception ignored in: <function WeakMethod.__new__.<locals>._cb at 0x7fde9a93ee80>\n",
      "Traceback (most recent call last):\n",
      "  File \"/home/sudeep/miniconda3/lib/python3.12/weakref.py\", line 60, in _cb\n",
      "    callback(self)\n",
      "  File \"/home/sudeep/miniconda3/lib/python3.12/site-packages/matplotlib/cbook.py\", line 248, in _remove_proxy\n",
      "    del self.callbacks[signal][cid]\n",
      "        ~~~~~~~~~~~~~~^^^^^^^^\n",
      "KeyError: 'changed'\n",
      "Exception ignored in: <function WeakMethod.__new__.<locals>._cb at 0x7fde9a7654e0>\n",
      "Traceback (most recent call last):\n",
      "  File \"/home/sudeep/miniconda3/lib/python3.12/weakref.py\", line 60, in _cb\n",
      "    callback(self)\n",
      "  File \"/home/sudeep/miniconda3/lib/python3.12/site-packages/matplotlib/cbook.py\", line 248, in _remove_proxy\n",
      "    del self.callbacks[signal][cid]\n",
      "        ~~~~~~~~~~~~~~^^^^^^^^\n",
      "KeyError: 'changed'\n",
      "Exception ignored in: <function WeakMethod.__new__.<locals>._cb at 0x7fde9a895940>\n",
      "Traceback (most recent call last):\n",
      "  File \"/home/sudeep/miniconda3/lib/python3.12/weakref.py\", line 60, in _cb\n",
      "    callback(self)\n",
      "  File \"/home/sudeep/miniconda3/lib/python3.12/site-packages/matplotlib/cbook.py\", line 248, in _remove_proxy\n",
      "    del self.callbacks[signal][cid]\n",
      "        ~~~~~~~~~~~~~~^^^^^^^^\n",
      "KeyError: 'changed'\n",
      "Exception ignored in: <function WeakMethod.__new__.<locals>._cb at 0x7fde9a895260>\n",
      "Traceback (most recent call last):\n",
      "  File \"/home/sudeep/miniconda3/lib/python3.12/weakref.py\", line 60, in _cb\n",
      "    callback(self)\n",
      "  File \"/home/sudeep/miniconda3/lib/python3.12/site-packages/matplotlib/cbook.py\", line 248, in _remove_proxy\n",
      "    del self.callbacks[signal][cid]\n",
      "        ~~~~~~~~~~~~~~^^^^^^^^\n",
      "KeyError: 'changed'\n",
      "Exception ignored in: <function WeakMethod.__new__.<locals>._cb at 0x7fde9a765440>\n",
      "Traceback (most recent call last):\n",
      "  File \"/home/sudeep/miniconda3/lib/python3.12/weakref.py\", line 60, in _cb\n",
      "    callback(self)\n",
      "  File \"/home/sudeep/miniconda3/lib/python3.12/site-packages/matplotlib/cbook.py\", line 248, in _remove_proxy\n",
      "    del self.callbacks[signal][cid]\n",
      "        ~~~~~~~~~~~~~~^^^^^^^^\n",
      "KeyError: 'changed'\n",
      "Exception ignored in: <function WeakMethod.__new__.<locals>._cb at 0x7fde9a7656c0>\n",
      "Traceback (most recent call last):\n",
      "  File \"/home/sudeep/miniconda3/lib/python3.12/weakref.py\", line 60, in _cb\n",
      "    callback(self)\n",
      "  File \"/home/sudeep/miniconda3/lib/python3.12/site-packages/matplotlib/cbook.py\", line 248, in _remove_proxy\n",
      "    del self.callbacks[signal][cid]\n",
      "        ~~~~~~~~~~~~~~^^^^^^^^\n",
      "KeyError: 'changed'\n",
      "Exception ignored in: <function WeakMethod.__new__.<locals>._cb at 0x7fde9aa080e0>\n",
      "Traceback (most recent call last):\n",
      "  File \"/home/sudeep/miniconda3/lib/python3.12/weakref.py\", line 60, in _cb\n",
      "    callback(self)\n",
      "  File \"/home/sudeep/miniconda3/lib/python3.12/site-packages/matplotlib/cbook.py\", line 248, in _remove_proxy\n",
      "    del self.callbacks[signal][cid]\n",
      "        ~~~~~~~~~~~~~~^^^^^^^^\n",
      "KeyError: 'changed'\n",
      "Exception ignored in: <function WeakMethod.__new__.<locals>._cb at 0x7fde9a894900>\n",
      "Traceback (most recent call last):\n",
      "  File \"/home/sudeep/miniconda3/lib/python3.12/weakref.py\", line 60, in _cb\n",
      "    callback(self)\n",
      "  File \"/home/sudeep/miniconda3/lib/python3.12/site-packages/matplotlib/cbook.py\", line 248, in _remove_proxy\n",
      "    del self.callbacks[signal][cid]\n",
      "        ~~~~~~~~~~~~~~^^^^^^^^\n",
      "KeyError: 'changed'\n",
      "Exception ignored in: <function WeakMethod.__new__.<locals>._cb at 0x7fde9aa0b880>\n",
      "Traceback (most recent call last):\n",
      "  File \"/home/sudeep/miniconda3/lib/python3.12/weakref.py\", line 60, in _cb\n",
      "    callback(self)\n",
      "  File \"/home/sudeep/miniconda3/lib/python3.12/site-packages/matplotlib/cbook.py\", line 248, in _remove_proxy\n",
      "    del self.callbacks[signal][cid]\n",
      "        ~~~~~~~~~~~~~~^^^^^^^^\n",
      "KeyError: 'changed'\n",
      "Exception ignored in: <function WeakMethod.__new__.<locals>._cb at 0x7fde9a93e660>\n",
      "Traceback (most recent call last):\n",
      "  File \"/home/sudeep/miniconda3/lib/python3.12/weakref.py\", line 60, in _cb\n",
      "    callback(self)\n",
      "  File \"/home/sudeep/miniconda3/lib/python3.12/site-packages/matplotlib/cbook.py\", line 248, in _remove_proxy\n",
      "    del self.callbacks[signal][cid]\n",
      "        ~~~~~~~~~~~~~~^^^^^^^^\n",
      "KeyError: 'changed'\n",
      "Exception ignored in: <function WeakMethod.__new__.<locals>._cb at 0x7fde9a896020>\n",
      "Traceback (most recent call last):\n",
      "  File \"/home/sudeep/miniconda3/lib/python3.12/weakref.py\", line 60, in _cb\n",
      "    callback(self)\n",
      "  File \"/home/sudeep/miniconda3/lib/python3.12/site-packages/matplotlib/cbook.py\", line 248, in _remove_proxy\n",
      "    del self.callbacks[signal][cid]\n",
      "        ~~~~~~~~~~~~~~^^^^^^^^\n",
      "KeyError: 'changed'\n",
      "Exception ignored in: <function WeakMethod.__new__.<locals>._cb at 0x7fde9a767380>\n",
      "Traceback (most recent call last):\n",
      "  File \"/home/sudeep/miniconda3/lib/python3.12/weakref.py\", line 60, in _cb\n",
      "    callback(self)\n",
      "  File \"/home/sudeep/miniconda3/lib/python3.12/site-packages/matplotlib/cbook.py\", line 248, in _remove_proxy\n",
      "    del self.callbacks[signal][cid]\n",
      "        ~~~~~~~~~~~~~~^^^^^^^^\n",
      "KeyError: 'changed'\n",
      "Exception ignored in: <function WeakMethod.__new__.<locals>._cb at 0x7fde9a9c6d40>\n",
      "Traceback (most recent call last):\n",
      "  File \"/home/sudeep/miniconda3/lib/python3.12/weakref.py\", line 60, in _cb\n",
      "    callback(self)\n",
      "  File \"/home/sudeep/miniconda3/lib/python3.12/site-packages/matplotlib/cbook.py\", line 248, in _remove_proxy\n",
      "    del self.callbacks[signal][cid]\n",
      "        ~~~~~~~~~~~~~~^^^^^^^^\n",
      "KeyError: 'changed'\n",
      "Exception ignored in: <function WeakMethod.__new__.<locals>._cb at 0x7fde9a9c5f80>\n",
      "Traceback (most recent call last):\n",
      "  File \"/home/sudeep/miniconda3/lib/python3.12/weakref.py\", line 60, in _cb\n",
      "    callback(self)\n",
      "  File \"/home/sudeep/miniconda3/lib/python3.12/site-packages/matplotlib/cbook.py\", line 248, in _remove_proxy\n",
      "    del self.callbacks[signal][cid]\n",
      "        ~~~~~~~~~~~~~~^^^^^^^^\n",
      "KeyError: 'changed'\n",
      "Exception ignored in: <function WeakMethod.__new__.<locals>._cb at 0x7fde9a764b80>\n",
      "Traceback (most recent call last):\n",
      "  File \"/home/sudeep/miniconda3/lib/python3.12/weakref.py\", line 60, in _cb\n",
      "    callback(self)\n",
      "  File \"/home/sudeep/miniconda3/lib/python3.12/site-packages/matplotlib/cbook.py\", line 248, in _remove_proxy\n",
      "    del self.callbacks[signal][cid]\n",
      "        ~~~~~~~~~~~~~~^^^^^^^^\n",
      "KeyError: 'changed'\n",
      "Exception ignored in: <function WeakMethod.__new__.<locals>._cb at 0x7fde9a93ca40>\n",
      "Traceback (most recent call last):\n",
      "  File \"/home/sudeep/miniconda3/lib/python3.12/weakref.py\", line 60, in _cb\n",
      "    callback(self)\n",
      "  File \"/home/sudeep/miniconda3/lib/python3.12/site-packages/matplotlib/cbook.py\", line 248, in _remove_proxy\n",
      "    del self.callbacks[signal][cid]\n",
      "        ~~~~~~~~~~~~~~^^^^^^^^\n",
      "KeyError: 'changed'\n",
      "Exception ignored in: <function WeakMethod.__new__.<locals>._cb at 0x7fde9a897880>\n",
      "Traceback (most recent call last):\n",
      "  File \"/home/sudeep/miniconda3/lib/python3.12/weakref.py\", line 60, in _cb\n",
      "    callback(self)\n",
      "  File \"/home/sudeep/miniconda3/lib/python3.12/site-packages/matplotlib/cbook.py\", line 248, in _remove_proxy\n",
      "    del self.callbacks[signal][cid]\n",
      "        ~~~~~~~~~~~~~~^^^^^^^^\n",
      "KeyError: 'changed'\n",
      "Exception ignored in: <function WeakMethod.__new__.<locals>._cb at 0x7fde9a897d80>\n",
      "Traceback (most recent call last):\n",
      "  File \"/home/sudeep/miniconda3/lib/python3.12/weakref.py\", line 60, in _cb\n",
      "    callback(self)\n",
      "  File \"/home/sudeep/miniconda3/lib/python3.12/site-packages/matplotlib/cbook.py\", line 248, in _remove_proxy\n",
      "    del self.callbacks[signal][cid]\n",
      "        ~~~~~~~~~~~~~~^^^^^^^^\n",
      "KeyError: 'changed'\n",
      "Exception ignored in: <function WeakMethod.__new__.<locals>._cb at 0x7fde9a7663e0>\n",
      "Traceback (most recent call last):\n",
      "  File \"/home/sudeep/miniconda3/lib/python3.12/weakref.py\", line 60, in _cb\n",
      "    callback(self)\n",
      "  File \"/home/sudeep/miniconda3/lib/python3.12/site-packages/matplotlib/cbook.py\", line 248, in _remove_proxy\n",
      "    del self.callbacks[signal][cid]\n",
      "        ~~~~~~~~~~~~~~^^^^^^^^\n",
      "KeyError: 'changed'\n",
      "Exception ignored in: <function WeakMethod.__new__.<locals>._cb at 0x7fde9a894b80>\n",
      "Traceback (most recent call last):\n",
      "  File \"/home/sudeep/miniconda3/lib/python3.12/weakref.py\", line 60, in _cb\n",
      "    callback(self)\n",
      "  File \"/home/sudeep/miniconda3/lib/python3.12/site-packages/matplotlib/cbook.py\", line 248, in _remove_proxy\n",
      "    del self.callbacks[signal][cid]\n",
      "        ~~~~~~~~~~~~~~^^^^^^^^\n",
      "KeyError: 'changed'\n",
      "Exception ignored in: <function WeakMethod.__new__.<locals>._cb at 0x7fde9aa0a200>\n",
      "Traceback (most recent call last):\n",
      "  File \"/home/sudeep/miniconda3/lib/python3.12/weakref.py\", line 60, in _cb\n",
      "    callback(self)\n",
      "  File \"/home/sudeep/miniconda3/lib/python3.12/site-packages/matplotlib/cbook.py\", line 248, in _remove_proxy\n",
      "    del self.callbacks[signal][cid]\n",
      "        ~~~~~~~~~~~~~~^^^^^^^^\n",
      "KeyError: 'changed'\n"
     ]
    },
    {
     "data": {
      "image/png": "[encoded data removed]",
      "text/plain": [
       "<Figure size 700x700 with 1 Axes>"
      ]
     },
     "metadata": {},
     "output_type": "display_data"
    }
   ],
   "source": [
    "# Srujith's plotting animation method\n",
    "\n",
    "# Define custom colors and normalization\n",
    "cmap = ListedColormap(['white', 'black', 'orange'])\n",
    "bounds = [0, 1, 8, 10]\n",
    "norm = BoundaryNorm(bounds, cmap.N)\n",
    "\n",
    "# Create the figure and axis for animation\n",
    "fig, ax = plt.subplots(figsize=(7, 7))\n",
    "\n",
    "# Function to update the plot for each frame\n",
    "def update(frame):\n",
    "    ax.clear() # Clear the previous image\n",
    "    ax.imshow(one_frame(dt[frame]), cmap=cmap, norm=norm, interpolation='none')\n",
    "    ax.set_title(f't = {frame}')\n",
    "    ax.axis('off') # Optionally hide axes for a cleaner look\n",
    "\n",
    "# Create the animation\n",
    "ani = animation.FuncAnimation(fig, update, frames=len(dt), interval=200) # 200ms delay\n",
    "ani.save(\"SIRS_model.gif\", writer = 'Pillow', fps = 3)"
   ]
  }
 ],
 "metadata": {
  "kernelspec": {
   "display_name": "Python 3 (ipykernel)",
   "language": "python",
   "name": "python3"
  },
  "language_info": {
   "codemirror_mode": {
    "name": "ipython",
    "version": 3
   },
   "file_extension": ".py",
   "mimetype": "text/x-python",
   "name": "python",
   "nbconvert_exporter": "python",
   "pygments_lexer": "ipython3",
   "version": "3.12.2"
  }
 },
 "nbformat": 4,
 "nbformat_minor": 5
}
