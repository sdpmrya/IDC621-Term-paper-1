{
 "cells": [
  {
   "cell_type": "code",
   "execution_count": 58,
   "id": "71d647cc-5cd2-4063-8364-9e5ab6fb6663",
   "metadata": {
    "jp-MarkdownHeadingCollapsed": true
   },
   "outputs": [],
   "source": [
    "import pandas as pd\n",
    "import matplotlib.pyplot as plt\n",
    "import seaborn as sns\n",
    "import numpy as np\n",
    "import math as mth\n",
    "from PIL import Image as im "
   ]
  },
  {
   "cell_type": "code",
   "execution_count": 3,
   "id": "f5e79c59-7d3d-4bb7-88b9-83ce3c56fe91",
   "metadata": {},
   "outputs": [],
   "source": [
    "data = pd.read_csv(\"SIRS_data.txt\", sep=\" \",header = None)"
   ]
  },
  {
   "cell_type": "code",
   "execution_count": 12,
   "id": "0490f996-c166-419b-afce-0e15b5e31448",
   "metadata": {},
   "outputs": [],
   "source": [
    "dt = np.array(data)"
   ]
  },
  {
   "cell_type": "code",
   "execution_count": 46,
   "id": "aa448c72-1548-43db-b887-716fd11ff72f",
   "metadata": {},
   "outputs": [
    {
     "data": {
      "text/plain": [
       "array([ 0.,  1.,  6.,  3.,  4.,  1.,  0.,  5.,  5.,  7.,  3.,  4.,  6.,\n",
       "        0.,  0.,  4.,  5.,  0.,  3.,  0.,  3.,  5.,  4.,  7.,  6.,  4.,\n",
       "        0.,  5.,  3.,  5.,  7.,  6.,  2.,  0.,  5.,  2.,  5.,  6.,  7.,\n",
       "        2.,  1.,  7.,  5.,  6.,  5.,  0.,  5.,  7.,  2.,  3.,  6.,  3.,\n",
       "        1.,  2.,  2.,  1.,  3.,  7.,  7.,  0.,  7.,  4.,  4.,  2.,  7.,\n",
       "        3.,  2.,  0.,  7.,  0.,  4.,  3.,  2.,  7.,  4.,  3.,  7.,  0.,\n",
       "        6.,  6.,  6.,  1.,  0.,  5.,  6.,  5.,  5.,  5.,  7.,  7.,  1.,\n",
       "        2.,  2.,  4.,  4.,  6.,  3.,  6.,  2.,  3., nan])"
      ]
     },
     "execution_count": 46,
     "metadata": {},
     "output_type": "execute_result"
    }
   ],
   "source": [
    "dt[0]"
   ]
  },
  {
   "cell_type": "code",
   "execution_count": 47,
   "id": "debfb30a-63a2-414f-a396-0b4c68b13f26",
   "metadata": {},
   "outputs": [
    {
     "data": {
      "text/plain": [
       "array([0., 0., 0., 0., 0., 0., 0., 0., 0., 0., 0., 0., 0., 0., 0., 0., 0.,\n",
       "       0., 0.])"
      ]
     },
     "execution_count": 47,
     "metadata": {},
     "output_type": "execute_result"
    }
   ],
   "source": [
    "np.zeros(19)"
   ]
  },
  {
   "cell_type": "code",
   "execution_count": 33,
   "id": "cb85e9f9-ca55-4277-9baf-015f88f37ff6",
   "metadata": {},
   "outputs": [
    {
     "data": {
      "text/plain": [
       "101"
      ]
     },
     "execution_count": 33,
     "metadata": {},
     "output_type": "execute_result"
    }
   ],
   "source": [
    "len(dt[0])"
   ]
  },
  {
   "cell_type": "code",
   "execution_count": 28,
   "id": "50139e2b-88b2-44ce-a7c8-cc7215af4a5a",
   "metadata": {},
   "outputs": [
    {
     "data": {
      "text/plain": [
       "[0, 1, 2, 3, 4]"
      ]
     },
     "execution_count": 28,
     "metadata": {},
     "output_type": "execute_result"
    }
   ],
   "source": [
    "list(range(0, 5))"
   ]
  },
  {
   "cell_type": "code",
   "execution_count": 48,
   "id": "9ef1ddb2-3a2b-4357-b2bf-bb93c047610f",
   "metadata": {},
   "outputs": [],
   "source": [
    "def one_frame(a):\n",
    "    N = int(mth.sqrt(len(a)-1))\n",
    "    b = np.zeros((N, N),float)\n",
    "    for i in range(0,N):\n",
    "        for j in range(0,N):\n",
    "            b[i][j] = a[N*i + j]\n",
    "    return (b)"
   ]
  },
  {
   "cell_type": "code",
   "execution_count": 49,
   "id": "21e25e4f-cac4-424f-b5c6-3a5b3dec1862",
   "metadata": {},
   "outputs": [
    {
     "data": {
      "text/plain": [
       "array([[0., 1., 6., 3., 4., 1., 0., 5., 5., 7.],\n",
       "       [3., 4., 6., 0., 0., 4., 5., 0., 3., 0.],\n",
       "       [3., 5., 4., 7., 6., 4., 0., 5., 3., 5.],\n",
       "       [7., 6., 2., 0., 5., 2., 5., 6., 7., 2.],\n",
       "       [1., 7., 5., 6., 5., 0., 5., 7., 2., 3.],\n",
       "       [6., 3., 1., 2., 2., 1., 3., 7., 7., 0.],\n",
       "       [7., 4., 4., 2., 7., 3., 2., 0., 7., 0.],\n",
       "       [4., 3., 2., 7., 4., 3., 7., 0., 6., 6.],\n",
       "       [6., 1., 0., 5., 6., 5., 5., 5., 7., 7.],\n",
       "       [1., 2., 2., 4., 4., 6., 3., 6., 2., 3.]])"
      ]
     },
     "execution_count": 49,
     "metadata": {},
     "output_type": "execute_result"
    }
   ],
   "source": [
    "one_frame(dt[0])"
   ]
  },
  {
   "cell_type": "code",
   "execution_count": 66,
   "id": "9ec1407e-dd80-48d9-a7ac-1f4464a5b24d",
   "metadata": {},
   "outputs": [
    {
     "data": {
      "image/png": "[encoded data removed]",
      "text/plain": [
       "<Figure size 640x480 with 2 Axes>"
      ]
     },
     "metadata": {},
     "output_type": "display_data"
    }
   ],
   "source": [
    "ax = sns.heatmap(one_frame(dt[2]), linewidth=0.5)\n",
    "plt.show()"
   ]
  },
  {
   "cell_type": "code",
   "execution_count": 59,
   "id": "cf61cd0e-fbfe-47a2-90e1-705831f8329c",
   "metadata": {},
   "outputs": [
    {
     "name": "stdout",
     "output_type": "stream",
     "text": [
      "(10, 10)\n"
     ]
    }
   ],
   "source": [
    "print(one_frame(dt[0]).shape)"
   ]
  },
  {
   "cell_type": "code",
   "execution_count": null,
   "id": "5585a656-fce6-4913-837c-e8e9c3ce7fa1",
   "metadata": {},
   "outputs": [],
   "source": [
    "for i in range(0,11):\n",
    "    image = im.15(one_frame(dt[i]))\n",
    "    image.save(\""
   ]
  },
  {
   "cell_type": "code",
   "execution_count": null,
   "id": "280d2d9d-d93a-4fbf-883e-db7bd95ba41b",
   "metadata": {},
   "outputs": [],
   "source": [
    "image = im.fromarray(one_frame(dt[0]))\n",
    "im.save(\"sudeep.png\")"
   ]
  }
 ],
 "metadata": {
  "kernelspec": {
   "display_name": "Python 3 (ipykernel)",
   "language": "python",
   "name": "python3"
  },
  "language_info": {
   "codemirror_mode": {
    "name": "ipython",
    "version": 3
   },
   "file_extension": ".py",
   "mimetype": "text/x-python",
   "name": "python",
   "nbconvert_exporter": "python",
   "pygments_lexer": "ipython3",
   "version": "3.12.2"
  }
 },
 "nbformat": 4,
 "nbformat_minor": 5
}
